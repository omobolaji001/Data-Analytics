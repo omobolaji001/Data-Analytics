{
 "cells": [
  {
   "cell_type": "markdown",
   "id": "a35b7734",
   "metadata": {},
   "source": [
    "# Assingment\n",
    "\n",
    "In the assingments the output of expected output of your codes has been given all that is left for you to do is to type in your codes and make sure that the outputs tally with the expected output"
   ]
  },
  {
   "cell_type": "markdown",
   "id": "68ebffe8",
   "metadata": {},
   "source": [
    "## Interest Calculator\n",
    "\n",
    "Suppose you have $100, which you can invest with a 10% return each year. After one year, it's (100 * 1.1 = 110) dollars, and after two years it's (100 * 1.1 * 1.1 = 121 ) dollars. Write a code to calculate how much money you end up with after 7 years, and print the result."
   ]
  },
  {
   "cell_type": "code",
   "execution_count": 1,
   "id": "9c44927c",
   "metadata": {},
   "outputs": [
    {
     "name": "stdout",
     "output_type": "stream",
     "text": [
      "194.87171000000015\n"
     ]
    }
   ],
   "source": [
    "print(100*1.1*1.1*1.1*1.1*1.1*1.1*1.1)"
   ]
  },
  {
   "cell_type": "markdown",
   "id": "3f788a9b",
   "metadata": {},
   "source": [
    "###### Carry out the above operations using only variables"
   ]
  },
  {
   "cell_type": "code",
   "execution_count": 6,
   "id": "35e37c25",
   "metadata": {},
   "outputs": [
    {
     "name": "stdout",
     "output_type": "stream",
     "text": [
      "194.87171000000012\n"
     ]
    }
   ],
   "source": [
    "# let c denote capital\n",
    "c = 100\n",
    "# let i denote interest in a year\n",
    "i = 1.1\n",
    "# let n denote interest in 7 years\n",
    "n = i**7\n",
    "# let m denote money after 7 years\n",
    "m = c*n\n",
    "print(m)"
   ]
  },
  {
   "cell_type": "markdown",
   "id": "dbd69774",
   "metadata": {},
   "source": [
    "## Lists\n",
    "\n",
    "Create a list called areas, that contains the area of the hallway (hall = 11.25), kitchen (kit = 18.0), living room (liv = 20.0), bedroom (bed = 10.75) and bathroom (bath = 9.50), in this order. Use the predefined variables."
   ]
  },
  {
   "cell_type": "code",
   "execution_count": 8,
   "id": "8815b368",
   "metadata": {},
   "outputs": [],
   "source": [
    "areas = [11.25, 18.0, 20.0, 10.75, 9.50]"
   ]
  },
  {
   "cell_type": "markdown",
   "id": "8fb50aee",
   "metadata": {},
   "source": [
    "Print areas using the print() function"
   ]
  },
  {
   "cell_type": "code",
   "execution_count": 9,
   "id": "aaae6c60",
   "metadata": {},
   "outputs": [
    {
     "name": "stdout",
     "output_type": "stream",
     "text": [
      "[11.25, 18.0, 20.0, 10.75, 9.5]\n"
     ]
    }
   ],
   "source": [
    "print(areas)"
   ]
  },
  {
   "cell_type": "markdown",
   "id": "872ed3af",
   "metadata": {},
   "source": [
    "Finish the code that creates the areas list. Build the list so that the list first contains the name of each room as a string and then its area. In other words, add the strings \"hallway\", \"kitchen\", \"living room\", \"bedroom\" and \"bathroom\" at the appropriate locations.\n",
    "* Print areas again; is the printout more informative this time?"
   ]
  },
  {
   "cell_type": "code",
   "execution_count": 10,
   "id": "bbce2a59",
   "metadata": {},
   "outputs": [],
   "source": [
    "areas = [\"hallway\", 11.25, \"kitchen\", 18.0, \"living room\", 20.0, \"bedroom\", 10.75, \"bathroom\", 9.50]"
   ]
  },
  {
   "cell_type": "code",
   "execution_count": 11,
   "id": "e2ecc9ca",
   "metadata": {},
   "outputs": [
    {
     "name": "stdout",
     "output_type": "stream",
     "text": [
      "['hallway', 11.25, 'kitchen', 18.0, 'living room', 20.0, 'bedroom', 10.75, 'bathroom', 9.5]\n"
     ]
    }
   ],
   "source": [
    "print(areas)"
   ]
  },
  {
   "cell_type": "markdown",
   "id": "b8935498",
   "metadata": {},
   "source": [
    "* Change the value of bathroom from 9.5 to 10.5\n",
    "* Also change \"living room\" to \"chill zone\"\n",
    "\n",
    "* Using the print() function print areas"
   ]
  },
  {
   "cell_type": "code",
   "execution_count": 12,
   "id": "de68d0d9",
   "metadata": {},
   "outputs": [
    {
     "name": "stdout",
     "output_type": "stream",
     "text": [
      "['hallway', 11.25, 'kitchen', 18.0, 'chill zone', 20.0, 'bedroom', 10.75, 'bathroom', 10.5]\n"
     ]
    }
   ],
   "source": [
    "areas = [\"hallway\", 11.25, \"kitchen\", 18.0, \"chill zone\", 20.0, \"bedroom\", 10.75, \"bathroom\", 10.50]\n",
    "print(areas)"
   ]
  },
  {
   "cell_type": "markdown",
   "id": "760f7fe7",
   "metadata": {},
   "source": [
    "* Use the + operator to paste the list [\"poolhouse\", 24.5] to the end of the areas list. Store the resulting list as areas_1.\n",
    "* Further extend areas_1 by adding data on your garage. Add the string \"garage\" and float 15.45. Name the resulting list areas_2.\n",
    "* Print areas_2"
   ]
  },
  {
   "cell_type": "code",
   "execution_count": 16,
   "id": "a2ed2d08",
   "metadata": {},
   "outputs": [],
   "source": [
    "areas_1=[\"hallway\", 11.25, \"kitchen\", 18.0, \"chill zone\", 20.0, \"bedroom\", 10.75, \"bathroom\", 10.50] + [\"poolhouse\", 24.5]"
   ]
  },
  {
   "cell_type": "code",
   "execution_count": 17,
   "id": "848c1ed0",
   "metadata": {},
   "outputs": [
    {
     "name": "stdout",
     "output_type": "stream",
     "text": [
      "['hallway', 11.25, 'kitchen', 18.0, 'chill zone', 20.0, 'bedroom', 10.75, 'bathroom', 10.5, 'poolhouse', 24.5, 'garage', 15.45]\n"
     ]
    }
   ],
   "source": [
    "areas_2 = areas_1 + [\"garage\", 15.45]\n",
    "print(areas_2)"
   ]
  },
  {
   "cell_type": "markdown",
   "id": "5f9da9d0",
   "metadata": {},
   "source": [
    "# Goodluck"
   ]
  }
 ],
 "metadata": {
  "kernelspec": {
   "display_name": "Python 3 (ipykernel)",
   "language": "python",
   "name": "python3"
  },
  "language_info": {
   "codemirror_mode": {
    "name": "ipython",
    "version": 3
   },
   "file_extension": ".py",
   "mimetype": "text/x-python",
   "name": "python",
   "nbconvert_exporter": "python",
   "pygments_lexer": "ipython3",
   "version": "3.9.7"
  }
 },
 "nbformat": 4,
 "nbformat_minor": 5
}
